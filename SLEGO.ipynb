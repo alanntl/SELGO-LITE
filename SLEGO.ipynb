{
  "cells": [
    {
      "cell_type": "markdown",
      "metadata": {
        "colab_type": "text",
        "id": "view-in-github"
      },
      "source": [
        "<a href=\"https://colab.research.google.com/github/alanntl/SELGO-LITE/blob/alanntl/SLEGO_LITE.ipynb\" target=\"_parent\"><img src=\"https://colab.research.google.com/assets/colab-badge.svg\" alt=\"Open In Colab\"/></a>"
      ]
    },
    {
      "cell_type": "markdown",
      "metadata": {
        "id": "DlOV4N79Fwrf"
      },
      "source": [
        "# SLEGO Project: UNSW CSE PhD Research - Alan Siu Lung Ng\n",
        "https://github.com/alanntl/SLEGO-Project"
      ]
    },
    {
      "cell_type": "code",
      "execution_count": 9,
      "metadata": {},
      "outputs": [
        {
          "name": "stdout",
          "output_type": "stream",
          "text": [
            "Running in GitHub Codespaces environment.\n",
            "Error running command git fetch: Command '['git', 'fetch']' returned non-zero exit status 128.\n",
            "Failed to fetch from remote.\n",
            "Warning: Requirements file not found at /workspaces/SELGO-Project/requirements.txt\n",
            "Skipping requirements installation.\n",
            "Working directory changed to: /workspaces/SELGO-Project/slegospace\n"
          ]
        },
        {
          "name": "stderr",
          "output_type": "stream",
          "text": [
            "remote: Repository not found.\n",
            "fatal: repository 'https://github.com/alanntl/SELGO-Project.git/' not found\n"
          ]
        }
      ],
      "source": [
        "# First, import the environment_setup module\n",
        "import environment_setup\n",
        "\n",
        "# Run the environment setup\n",
        "config = environment_setup.setup_environment()"
      ]
    },
    {
      "cell_type": "code",
      "execution_count": 17,
      "metadata": {},
      "outputs": [
        {
          "name": "stdout",
          "output_type": "stream",
          "text": [
            "Running in GitHub Codespaces environment.\n",
            "Requirement already satisfied: panel in /home/codespace/.local/lib/python3.10/site-packages (from -r /workspaces/SELGO-Project/requirements.txt (line 1)) (1.4.4)\n",
            "Requirement already satisfied: numpy in /home/codespace/.local/lib/python3.10/site-packages (from -r /workspaces/SELGO-Project/requirements.txt (line 2)) (1.23.5)\n",
            "Requirement already satisfied: pandas in /home/codespace/.local/lib/python3.10/site-packages (from -r /workspaces/SELGO-Project/requirements.txt (line 3)) (2.2.2)\n",
            "Requirement already satisfied: bokeh<3.5.0,>=3.4.0 in /home/codespace/.local/lib/python3.10/site-packages (from panel->-r /workspaces/SELGO-Project/requirements.txt (line 1)) (3.4.2)\n",
            "Requirement already satisfied: param<3.0,>=2.1.0 in /home/codespace/.local/lib/python3.10/site-packages (from panel->-r /workspaces/SELGO-Project/requirements.txt (line 1)) (2.1.1)\n",
            "Requirement already satisfied: pyviz-comms>=2.0.0 in /home/codespace/.local/lib/python3.10/site-packages (from panel->-r /workspaces/SELGO-Project/requirements.txt (line 1)) (3.0.2)\n",
            "Requirement already satisfied: xyzservices>=2021.09.1 in /home/codespace/.local/lib/python3.10/site-packages (from panel->-r /workspaces/SELGO-Project/requirements.txt (line 1)) (2024.6.0)\n",
            "Requirement already satisfied: markdown in /home/codespace/.local/lib/python3.10/site-packages (from panel->-r /workspaces/SELGO-Project/requirements.txt (line 1)) (3.6)\n",
            "Requirement already satisfied: markdown-it-py in /home/codespace/.local/lib/python3.10/site-packages (from panel->-r /workspaces/SELGO-Project/requirements.txt (line 1)) (3.0.0)\n",
            "Requirement already satisfied: linkify-it-py in /home/codespace/.local/lib/python3.10/site-packages (from panel->-r /workspaces/SELGO-Project/requirements.txt (line 1)) (2.0.3)\n",
            "Requirement already satisfied: mdit-py-plugins in /home/codespace/.local/lib/python3.10/site-packages (from panel->-r /workspaces/SELGO-Project/requirements.txt (line 1)) (0.4.1)\n",
            "Requirement already satisfied: requests in /home/codespace/.local/lib/python3.10/site-packages (from panel->-r /workspaces/SELGO-Project/requirements.txt (line 1)) (2.32.3)\n",
            "Requirement already satisfied: tqdm>=4.48.0 in /home/codespace/.local/lib/python3.10/site-packages (from panel->-r /workspaces/SELGO-Project/requirements.txt (line 1)) (4.66.4)\n",
            "Requirement already satisfied: bleach in /home/codespace/.local/lib/python3.10/site-packages (from panel->-r /workspaces/SELGO-Project/requirements.txt (line 1)) (6.1.0)\n",
            "Requirement already satisfied: typing-extensions in /home/codespace/.local/lib/python3.10/site-packages (from panel->-r /workspaces/SELGO-Project/requirements.txt (line 1)) (4.12.2)\n",
            "Requirement already satisfied: python-dateutil>=2.8.2 in /home/codespace/.local/lib/python3.10/site-packages (from pandas->-r /workspaces/SELGO-Project/requirements.txt (line 3)) (2.9.0.post0)\n",
            "Requirement already satisfied: pytz>=2020.1 in /home/codespace/.local/lib/python3.10/site-packages (from pandas->-r /workspaces/SELGO-Project/requirements.txt (line 3)) (2024.1)\n",
            "Requirement already satisfied: tzdata>=2022.7 in /home/codespace/.local/lib/python3.10/site-packages (from pandas->-r /workspaces/SELGO-Project/requirements.txt (line 3)) (2024.1)\n",
            "Requirement already satisfied: Jinja2>=2.9 in /home/codespace/.local/lib/python3.10/site-packages (from bokeh<3.5.0,>=3.4.0->panel->-r /workspaces/SELGO-Project/requirements.txt (line 1)) (3.1.4)\n",
            "Requirement already satisfied: contourpy>=1.2 in /home/codespace/.local/lib/python3.10/site-packages (from bokeh<3.5.0,>=3.4.0->panel->-r /workspaces/SELGO-Project/requirements.txt (line 1)) (1.2.1)\n",
            "Requirement already satisfied: packaging>=16.8 in /home/codespace/.local/lib/python3.10/site-packages (from bokeh<3.5.0,>=3.4.0->panel->-r /workspaces/SELGO-Project/requirements.txt (line 1)) (24.1)\n",
            "Requirement already satisfied: pillow>=7.1.0 in /home/codespace/.local/lib/python3.10/site-packages (from bokeh<3.5.0,>=3.4.0->panel->-r /workspaces/SELGO-Project/requirements.txt (line 1)) (10.4.0)\n",
            "Requirement already satisfied: PyYAML>=3.10 in /home/codespace/.local/lib/python3.10/site-packages (from bokeh<3.5.0,>=3.4.0->panel->-r /workspaces/SELGO-Project/requirements.txt (line 1)) (6.0.1)\n",
            "Requirement already satisfied: tornado>=6.2 in /home/codespace/.local/lib/python3.10/site-packages (from bokeh<3.5.0,>=3.4.0->panel->-r /workspaces/SELGO-Project/requirements.txt (line 1)) (6.4.1)\n",
            "Requirement already satisfied: six>=1.5 in /home/codespace/.local/lib/python3.10/site-packages (from python-dateutil>=2.8.2->pandas->-r /workspaces/SELGO-Project/requirements.txt (line 3)) (1.16.0)\n",
            "Requirement already satisfied: webencodings in /home/codespace/.local/lib/python3.10/site-packages (from bleach->panel->-r /workspaces/SELGO-Project/requirements.txt (line 1)) (0.5.1)\n",
            "Requirement already satisfied: uc-micro-py in /home/codespace/.local/lib/python3.10/site-packages (from linkify-it-py->panel->-r /workspaces/SELGO-Project/requirements.txt (line 1)) (1.0.3)\n",
            "Requirement already satisfied: mdurl~=0.1 in /home/codespace/.local/lib/python3.10/site-packages (from markdown-it-py->panel->-r /workspaces/SELGO-Project/requirements.txt (line 1)) (0.1.2)\n",
            "Requirement already satisfied: charset-normalizer<4,>=2 in /home/codespace/.local/lib/python3.10/site-packages (from requests->panel->-r /workspaces/SELGO-Project/requirements.txt (line 1)) (3.3.2)\n",
            "Requirement already satisfied: idna<4,>=2.5 in /home/codespace/.local/lib/python3.10/site-packages (from requests->panel->-r /workspaces/SELGO-Project/requirements.txt (line 1)) (3.7)\n",
            "Requirement already satisfied: urllib3<3,>=1.21.1 in /home/codespace/.local/lib/python3.10/site-packages (from requests->panel->-r /workspaces/SELGO-Project/requirements.txt (line 1)) (2.2.2)\n",
            "Requirement already satisfied: certifi>=2017.4.17 in /home/codespace/.local/lib/python3.10/site-packages (from requests->panel->-r /workspaces/SELGO-Project/requirements.txt (line 1)) (2024.7.4)\n",
            "Requirement already satisfied: MarkupSafe>=2.0 in /home/codespace/.local/lib/python3.10/site-packages (from Jinja2>=2.9->bokeh<3.5.0,>=3.4.0->panel->-r /workspaces/SELGO-Project/requirements.txt (line 1)) (2.1.5)\n",
            "Installed requirements from requirements.txt\n",
            "Working directory changed to: /workspaces/SELGO-Project/slegospace\n",
            "Environment setup complete. You can now import project modules.\n"
          ]
        }
      ],
      "source": [
        "import os\n",
        "import sys\n",
        "import subprocess\n",
        "import platform\n",
        "from typing import Dict, Any, Optional\n",
        "\n",
        "def detect_environment() -> str:\n",
        "    \"\"\"Detect the current runtime environment.\"\"\"\n",
        "    if 'google.colab' in sys.modules:\n",
        "        return 'colab'\n",
        "    elif 'CODESPACES' in os.environ and os.environ['CODESPACES'] == 'true':\n",
        "        return 'github-codespaces'\n",
        "    else:\n",
        "        return 'local-jupyter'\n",
        "\n",
        "def get_environment_config() -> Dict[str, Any]:\n",
        "    \"\"\"Get the configuration based on the current runtime environment.\"\"\"\n",
        "    config = {}\n",
        "    env = detect_environment()\n",
        "    \n",
        "    if env == 'colab':\n",
        "        print(\"Running in Google Colab environment.\")\n",
        "        config['drive_mainfolder'] = '/content/drive/MyDrive/SLEGO'\n",
        "        config['drive_folder'] = '/content/drive/MyDrive/'\n",
        "        from google.colab import drive\n",
        "        drive.mount('/content/drive', force_remount=True)\n",
        "    elif env == 'github-codespaces':\n",
        "        print(\"Running in GitHub Codespaces environment.\")\n",
        "        config['drive_mainfolder'] = '/workspaces/SELGO-Project'\n",
        "        config['drive_folder'] = '/workspaces/'\n",
        "    else:  # local-jupyter\n",
        "        print(\"Running in a local Jupyter environment.\")\n",
        "        gmailaccount = os.environ.get('GMAIL_ACCOUNT', 'default@gmail.com')\n",
        "        config['drive_mainfolder'] = f\"/Users/an/Library/CloudStorage/GoogleDrive-{gmailaccount}/My Drive/SLEGO\"\n",
        "        config['drive_folder'] = f\"/Users/an/Library/CloudStorage/GoogleDrive-{gmailaccount}/My Drive/\"\n",
        "    \n",
        "    config['slego_env'] = f\"{config['drive_folder']}/slego_env_v0_0_1\"\n",
        "    config['requirements_file'] = f\"{config['drive_mainfolder']}/requirements.txt\"\n",
        "    \n",
        "    # Set up workspace folders\n",
        "    config['folder_path'] = f\"{config['drive_mainfolder']}/slegospace\"\n",
        "    config['dataspace'] = f\"{config['folder_path']}/dataspace\"\n",
        "    config['recordspace'] = f\"{config['folder_path']}/recordspace\"\n",
        "    config['functionspace'] = f\"{config['folder_path']}/functionspace\"\n",
        "    config['knowledgespace'] = f\"{config['folder_path']}/knowledgespace\"\n",
        "    \n",
        "    os.environ['DRIVE_MAINFOLDER'] = config['drive_mainfolder']\n",
        "    os.environ['DRIVE_FOLDER'] = config['drive_folder']\n",
        "    \n",
        "    return config\n",
        "\n",
        "def run_command(command: list, check: bool = True, **kwargs) -> Optional[bool]:\n",
        "    \"\"\"Run a subprocess command with error handling.\"\"\"\n",
        "    try:\n",
        "        subprocess.run(command, check=check, **kwargs)\n",
        "    except subprocess.CalledProcessError as e:\n",
        "        print(f\"Error running command {' '.join(command)}: {e}\")\n",
        "        return None\n",
        "    return True\n",
        "\n",
        "def create_requirements_file(config: Dict[str, Any]):\n",
        "    \"\"\"Create a requirements.txt file if it doesn't exist.\"\"\"\n",
        "    requirements_file = config['requirements_file']\n",
        "    if not os.path.exists(requirements_file):\n",
        "        with open(requirements_file, 'w') as f:\n",
        "            f.write(\"panel\\n\")\n",
        "            f.write(\"numpy\\n\")\n",
        "            f.write(\"pandas\\n\")\n",
        "            # Add any other required packages here\n",
        "        print(f\"Created requirements.txt at {requirements_file}\")\n",
        "\n",
        "def setup_virtual_environment(config: Dict[str, Any]):\n",
        "    \"\"\"Set up the virtual environment and install requirements.\"\"\"\n",
        "    env = detect_environment()\n",
        "    slego_env = config['slego_env']\n",
        "    requirements_file = config['requirements_file']\n",
        "\n",
        "    if not os.path.exists(slego_env):\n",
        "        run_command([sys.executable, '-m', 'pip', 'install', 'virtualenv'])\n",
        "        run_command([sys.executable, '-m', 'virtualenv', slego_env])\n",
        "\n",
        "    python_version = f\"python{platform.python_version_tuple()[0]}.{platform.python_version_tuple()[1]}\"\n",
        "    \n",
        "    if env == 'colab':\n",
        "        activate_this = f\"{slego_env}/bin/activate_this.py\"\n",
        "        exec(open(activate_this).read(), {'__file__': activate_this})\n",
        "        sys.path.append(f\"{slego_env}/lib/{python_version}/site-packages\")\n",
        "    elif env == 'github-codespaces':\n",
        "        os.environ['VIRTUAL_ENV'] = slego_env\n",
        "        os.environ['PATH'] = f\"{slego_env}/bin:{os.environ['PATH']}\"\n",
        "    else:  # local-jupyter\n",
        "        activate_this = f\"{slego_env}/bin/activate_this.py\"\n",
        "        exec(open(activate_this).read(), {'__file__': activate_this})\n",
        "\n",
        "    create_requirements_file(config)\n",
        "\n",
        "    if os.path.exists(requirements_file):\n",
        "        run_command([sys.executable, '-m', 'pip', 'install', '-r', requirements_file])\n",
        "        print(\"Installed requirements from requirements.txt\")\n",
        "    else:\n",
        "        print(f\"Error: Requirements file not found at {requirements_file}\")\n",
        "\n",
        "def setup_workspace(config: Dict[str, Any]):\n",
        "    \"\"\"Set up the workspace folders and change the working directory.\"\"\"\n",
        "    for folder in [config['folder_path'], config['dataspace'], config['recordspace'], \n",
        "                   config['functionspace'], config['knowledgespace']]:\n",
        "        os.makedirs(folder, exist_ok=True)\n",
        "    \n",
        "    os.chdir(config['folder_path'])\n",
        "    print(f\"Working directory changed to: {os.getcwd()}\")\n",
        "\n",
        "    if detect_environment() == 'colab':\n",
        "        from google.colab import files\n",
        "        files.view(config['folder_path'])\n",
        "\n",
        "def setup_environment():\n",
        "    \"\"\"Set up the environment, virtual environment, and workspace.\"\"\"\n",
        "    config = get_environment_config()\n",
        "    setup_virtual_environment(config)\n",
        "    setup_workspace(config)\n",
        "    return config\n",
        "\n",
        "# Global variable to store the configuration\n",
        "global_config = None\n",
        "\n",
        "# Automatically run setup when the module is imported\n",
        "global_config = setup_environment()\n",
        "\n",
        "# Add the project root to sys.path\n",
        "sys.path.append(global_config['drive_mainfolder'])\n",
        "\n",
        "print(\"Environment setup complete. You can now import project modules.\")"
      ]
    },
    {
      "cell_type": "markdown",
      "metadata": {
        "id": "xaXV8VuIX15o"
      },
      "source": [
        "# SLEGO APP"
      ]
    },
    {
      "cell_type": "code",
      "execution_count": 20,
      "metadata": {},
      "outputs": [],
      "source": [
        "os.chdir(config['folder_path'])"
      ]
    },
    {
      "cell_type": "code",
      "execution_count": 21,
      "metadata": {},
      "outputs": [
        {
          "data": {
            "text/plain": [
              "{'drive_mainfolder': '/workspaces/SELGO-Project',\n",
              " 'drive_folder': '/workspaces/',\n",
              " 'repo_url': 'https://github.com/alanntl/SELGO-Project.git',\n",
              " 'slego_env': '/workspaces//slego_env_v0_0_1',\n",
              " 'requirements_file': '/workspaces/SELGO-Project/requirements.txt',\n",
              " 'folder_path': '/workspaces/SELGO-Project/slegospace',\n",
              " 'dataspace': '/workspaces/SELGO-Project/slegospace/dataspace',\n",
              " 'recordspace': '/workspaces/SELGO-Project/slegospace/recordspace',\n",
              " 'functionspace': '/workspaces/SELGO-Project/slegospace/functionspace',\n",
              " 'knowledgespace': '/workspaces/SELGO-Project/slegospace/knowledgespace'}"
            ]
          },
          "execution_count": 21,
          "metadata": {},
          "output_type": "execute_result"
        }
      ],
      "source": [
        "config"
      ]
    },
    {
      "cell_type": "code",
      "execution_count": 24,
      "metadata": {},
      "outputs": [
        {
          "ename": "ModuleNotFoundError",
          "evalue": "No module named 'slegoapp'",
          "output_type": "error",
          "traceback": [
            "\u001b[0;31m---------------------------------------------------------------------------\u001b[0m",
            "\u001b[0;31mModuleNotFoundError\u001b[0m                       Traceback (most recent call last)",
            "Cell \u001b[0;32mIn[24], line 1\u001b[0m\n\u001b[0;32m----> 1\u001b[0m \u001b[38;5;28;01mimport\u001b[39;00m \u001b[38;5;21;01mslegoapp\u001b[39;00m\n\u001b[1;32m      2\u001b[0m \u001b[38;5;28;01mimport\u001b[39;00m \u001b[38;5;21;01mpanel\u001b[39;00m \u001b[38;5;28;01mas\u001b[39;00m \u001b[38;5;21;01mpn\u001b[39;00m\n\u001b[1;32m      3\u001b[0m display(config)\n",
            "\u001b[0;31mModuleNotFoundError\u001b[0m: No module named 'slegoapp'"
          ]
        }
      ],
      "source": [
        "import slegoapp\n",
        "import panel as pn\n",
        "display(config)\n",
        "# Kill all existing servers\n",
        "pn.state.kill_all_servers()\n",
        "\n",
        "# Create and run the new app\n",
        "slego_app = slegoapp.SLEGOApp(config)\n",
        "slego_app.run()"
      ]
    },
    {
      "cell_type": "code",
      "execution_count": null,
      "metadata": {},
      "outputs": [],
      "source": []
    }
  ],
  "metadata": {
    "colab": {
      "include_colab_link": true,
      "provenance": []
    },
    "kernelspec": {
      "display_name": "Python 3",
      "name": "python3"
    },
    "language_info": {
      "codemirror_mode": {
        "name": "ipython",
        "version": 3
      },
      "file_extension": ".py",
      "mimetype": "text/x-python",
      "name": "python",
      "nbconvert_exporter": "python",
      "pygments_lexer": "ipython3",
      "version": "3.10.13"
    }
  },
  "nbformat": 4,
  "nbformat_minor": 0
}
